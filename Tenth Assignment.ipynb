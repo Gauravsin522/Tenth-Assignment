{
 "cells": [
  {
   "cell_type": "markdown",
   "metadata": {},
   "source": [
    "# Statistics Basics\n",
    "## Assignment Questions"
   ]
  },
  {
   "cell_type": "code",
   "execution_count": 1,
   "metadata": {},
   "outputs": [],
   "source": [
    "#1. Explain the different types of data (qualitative and quantitative) and provide examples of each. Discuss nominal, ordinal, interval, and ratio scales.\n",
    "\n",
    "#Answer:- The different types of data  are qualitative and quantitative. Qualitative data is descriptive and non-numerical, while quantitative data is\n",
    "#numerical and measurable.\n",
    "# \n",
    "# Nominal scales are used for labeling variables without any quantitative value.\n",
    "#example:-  gender, color, nationality\n",
    "\n",
    " \n",
    "# ordinal scales is categorized with a meaningful order, but the differences between the categories are not quantifiable.\n",
    "#example :-  education level, satisfaction level, blood type\n",
    "\n",
    "# Interval scale has meaningful intervals between values, but no true zero point.\n",
    "#example:- Temperature,IQ\n",
    "\n",
    "# Ratio scale has meaningful intervals and a true zero point, allowing for the calculation of ratios.\n",
    "# example:- Height, weight, age"
   ]
  },
  {
   "cell_type": "code",
   "execution_count": 1,
   "metadata": {},
   "outputs": [],
   "source": [
    "#2. What are the measures of central tendency, and when should you use each? Discuss the mean, median, and mode with examples and situations where each is appropriate.\n",
    "\n",
    "# Answer:- Measures of central tendency are statistical metrics used to summarize a set of data points \n",
    "# into a single value that represents the center of the data distribution. The three main measures are mean, median, and mode.\n",
    "\n",
    "#1. Mean (Average):- The mean is the sum of all data points divided by the number of data points.\n",
    "\n",
    "#Example:-  the mean is (1 + 2 + 3 + 4 + 5) / 5 = 3.\n",
    "\n",
    "#2. Median:- The median is the middle value when the data points are arranged in ascending order.\n",
    "# If there's an even number of data points, it's the average of the two middle numbers.\n",
    "\n",
    "#Example :- the median is (2 + 2) / 2 = 2.\n",
    "\n",
    "#3. Mode:- The mode is the value that appears most frequently in the data set.\n",
    "\n",
    "#Example:- the data set {1,2 ,3,3 ,7, 12, 20}, the mode is 3\n"
   ]
  },
  {
   "cell_type": "code",
   "execution_count": 2,
   "metadata": {},
   "outputs": [],
   "source": [
    "#3. Explain the concept of dispersion. How do variance and standard deviation measure the spread of data?\n",
    "\n",
    "#Answer:-Dispersion measures how spread out the values in a data set are, giving us a sense of the data's variability or consistency. \n",
    "# Common measures of dispersion include variance and standard deviation.\n",
    "\n",
    "#Variance: Useful for statistical and inferential analysis, especially when comparing the spread of two or more data sets.\n",
    "\n",
    "#Standard Deviation: More intuitive for interpreting data dispersion as it is in the same unit as the original data.\n",
    "#It's often used in contexts like finance to measure market volatility or in education to assess the consistency of student test scores.\n"
   ]
  },
  {
   "cell_type": "code",
   "execution_count": 3,
   "metadata": {},
   "outputs": [],
   "source": [
    "#4. What is a box plot, and what can it tell you about the distribution of data? \n",
    "\n",
    "#Answer:- A box plot is a visual tool used to represent the distribution of data through its quartiles.\n",
    "# It comprises five main components: the minimum, first quartile (Q1), median (Q2), third quartile (Q3), and maximum. \n",
    "# The box itself shows the interquartile range (IQR) which is the range between Q1 and Q3, encapsulating the middle 50% of the data. \n",
    "# The line inside the box indicates the median, giving a sense of the data's central tendency. Whiskers extend from the box to the minimum and maximum values, excluding outliers which are plotted as individual points. \n",
    "# Outliers are data points that fall outside 1.5 times the IQR from the quartiles and signal unusual deviations in the data set.\n",
    "# By providing a clear visualization of the data's spread, central tendency, and potential outliers, a box plot helps in quickly assessing the distribution and variability of the data."
   ]
  },
  {
   "cell_type": "code",
   "execution_count": 1,
   "metadata": {},
   "outputs": [],
   "source": [
    "#5. Discuss the role of random sampling in making inferences about populations.\n",
    "#Answer:- Random sampling is key for making inferences about populations. It ensures every individual has an equal chance of being chosen,\n",
    "# making the sample more representative and reducing bias. This method allows for accurate generalizations. \n",
    "# For instance, sampling students' heights can help estimate the average height of all students, ensuring more reliable and valid conclusions.\n"
   ]
  },
  {
   "cell_type": "code",
   "execution_count": null,
   "metadata": {},
   "outputs": [],
   "source": [
    "#6. Explain the concept of skewness and its types. How does skewness affect the interpretation of data?  \n",
    "\n",
    "#Answer:-Skewness measures the asymmetry of a data distribution. \n",
    "#It helps us understand how much and in which direction the data deviates from a normal distribution.\n",
    "\n",
    "#There three types of Skewness:\n",
    "#1Positive Skewness (Right-Skewed):the impact is the mean is greater than the median.\n",
    "\n",
    "#2Negative Skewness (Left-Skewed):the impact the mean is less than the median.\n",
    "\n",
    "#3Zero Skewness (Symmetrical):the impactt he mean and median are equal.\n",
    "\n",
    "\n"
   ]
  },
  {
   "cell_type": "code",
   "execution_count": null,
   "metadata": {},
   "outputs": [],
   "source": [
    "#7. What is the interquartile range (IQR), and how is it used to detect outliers?  \n",
    "\n",
    "#Answer:-  It measures the spread of the middle 50% of a data set and is calculated\n",
    "# as the difference between the third quartile (Q3) and the first quartile (Q1)\n",
    "\n",
    "#since  (iqr) deal with q3 & q1 ,it is not affected by outliers."
   ]
  },
  {
   "cell_type": "code",
   "execution_count": null,
   "metadata": {},
   "outputs": [],
   "source": [
    "# 8. Discuss the conditions under which the binomial distribution is used.  \n",
    "\n",
    "#There many condition under which the binomial distridution is used like :- \n",
    "#when Fixed numder on trail.e.g:-flipping a coin 10 times.\n",
    "#when outcome is binomal.e.g:-tail or heads"
   ]
  },
  {
   "cell_type": "code",
   "execution_count": 1,
   "metadata": {},
   "outputs": [],
   "source": [
    "#9. Explain the properties of the normal distribution and the empirical rule (68-95-99.7 rule).  \n",
    "\n",
    "#answer:- the properties of the normal distribution :the left and right sides of the curve are mirrir image.\n",
    "#the mean medain mode are locate in the center of distridution\n",
    "\n",
    "#the empirical rule  (68-95-99.7 ). \n",
    "# are like that about 68% data falls within 68% area.\n",
    "# the about 95% data falls within 95% area.\n",
    "# the about 99.7% data falls within 99.7 area.\n"
   ]
  },
  {
   "cell_type": "code",
   "execution_count": null,
   "metadata": {},
   "outputs": [],
   "source": [
    "#10. Provide a real-life example of a Poisson process and calculate the probability for a specific event.\n",
    "# Answer:- The real lif example of a poisson process :-\n",
    "# eXample :- Average number of death in accodent on highway is 1.8 ."
   ]
  },
  {
   "cell_type": "code",
   "execution_count": 1,
   "metadata": {},
   "outputs": [],
   "source": [
    "# 11. Explain what a random variable is and differentiate between discrete and continuous random variables.\n",
    "\n",
    "#Answer:-Random variale is a set of possible values from a random experiment.\n",
    "\n",
    "# Discrete Random Variables: These variables take on a countable number of distinct values.\n",
    "\n",
    "# Example: The number of heads in 10 coin flips, the number of students in a class\n",
    "\n",
    "#Continuous Random Variables: These variables can take on an infinite number of values within a given range.\n",
    "\n",
    "#Example: The height of students, the time it takes to run a marathon."
   ]
  },
  {
   "cell_type": "code",
   "execution_count": 3,
   "metadata": {},
   "outputs": [],
   "source": [
    "# 12. Provide an example dataset, calculate both covariance and correlation, and interpret the results.\n",
    "\n",
    "#answer:- dataset\n",
    "x=60,120,156,204\n",
    "y=2,2.2,2.3,2.7\n"
   ]
  },
  {
   "cell_type": "markdown",
   "metadata": {},
   "source": []
  }
 ],
 "metadata": {
  "kernelspec": {
   "display_name": "Python 3",
   "language": "python",
   "name": "python3"
  },
  "language_info": {
   "codemirror_mode": {
    "name": "ipython",
    "version": 3
   },
   "file_extension": ".py",
   "mimetype": "text/x-python",
   "name": "python",
   "nbconvert_exporter": "python",
   "pygments_lexer": "ipython3",
   "version": "3.13.0"
  }
 },
 "nbformat": 4,
 "nbformat_minor": 2
}
